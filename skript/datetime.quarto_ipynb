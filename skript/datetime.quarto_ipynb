{
  "cells": [
    {
      "cell_type": "markdown",
      "metadata": {},
      "source": [
        "# Zeitreihen\n",
        "**Dieser Teil ist weitgehend aus dem m-EsD**  \n",
        "Die Verarbeitung von Datums- und Zeitinformationen wird in Python durch verschiedene Module ermöglicht. Einleitend werden einige dieser Module kurz vorgestellt, da in der Dokumentation gelegentlich auf diese verwiesen wird. Pandas bietet einen einheitlichen Zugang zu den meisten dieser Funktionen und verwendet die NumPy Datentypen `datetime64` und `timedelta64`.\n",
        "\n",
        "  - Der Datentyp `datetime64` beschreibt einen bestimmten Zeitpunkt an einem bestimmten Datum und gehört zu der Klasse `Timestamp`. Der Datentyp hat die Einheit Nanosekunden und kann Informationen über die Zeitzone speichern.\n",
        "\n",
        "  - Der Datentyp `timedelta64` beschreibt eine absolute Zeitdauer in der Einheit Nanosekunden und gehört zu der Klasse `Timedelta`.\n"
      ],
      "id": "4d6ef273"
    },
    {
      "cell_type": "code",
      "metadata": {},
      "source": [
        "#| echo: false\n",
        "\n",
        "import numpy as np\n",
        "import pandas as pd"
      ],
      "id": "bf932bb2",
      "execution_count": null,
      "outputs": []
    },
    {
      "cell_type": "markdown",
      "metadata": {},
      "source": [
        "## Datums- und Zeitinformationen in Python\n",
        "In Python gibt es einige Module zur Verarbeitung von Datums- und Zeitinformationen.\n",
        "\n",
        "  - Das Modul time stellt Zeit- und Datumsoperationen mit Objekten vom Typ `struct_time` bereit. ([Dokumentation des Moduls time](https://docs.python.org/3/library/time.html))\n",
        "\n",
        "  - Das Modul datetime führt die Datentypen `datetime` und `timedelta`, zusätzliche Methoden für die Bearbeitung und die Ausgabe von Datums- und Zeitinformationen ein. Das Modul kann Jahreszahlen von 1 bis 9999 nach unserer Zeitrechnung im Gregorianischen Kalender verarbeiten. ([Dokumentation des Moduls datetime](https://docs.python.org/3/library/datetime.html#))\n",
        "       \n",
        "  - Das Modul calendar führt verschiedene Kalenderfunktionen ein und erweitert den verarbeitbaren Zeitraum. Basierend auf dem Gregorianischen Kalender reicht dieser in beide Richtungen ins Unendliche. ([Dokumentation des Moduls calendar](https://docs.python.org/3/library/calendar.html#module-calendar))\n",
        "\n",
        "  - Das Modul pytz führt die IANA-Zeitzonendatenbank (Internet Assigned Numbers Authority) für Anwendungsprogramme und Betriebssysteme ein (auch Olsen-Datenbank genannt). Die IANA-Datenbank beinhaltet die Zeitzonen und Änderungen der Zeit seit 1970. ([Wikipedia](https://de.wikipedia.org/wiki/Zeitzonen-Datenbank)) Das Modul pytz sorgt für eine korrekte Berechnung von Zeiten zum Ende der Zeitumstellung (Ende Sommerzeit) über Zeitzonen hinweg. ([Dokumentation pytz](https://pythonhosted.org/pytz/))\n",
        "\n",
        "  - NumPy führt die Datentypen `datetime64` und `timedelta64` ein. Diese basieren auf dem Gregorianischen Kalender und reichen in beide Richtungen ins Unendliche. <https://numpy.org/doc/stable/reference/arrays.datetime.html>\n",
        "\n",
        "  - Pandas nutzt die NumPy-Datentypen `datetime64` und `timedelta64` und ergänzt zahlreiche Funktionen zur Verarbeitung von Datums- und Zeitinformationen aus anderen Paketen. <https://pandas.pydata.org/docs/user_guide/timeseries.html>\n",
        "\n",
        "NumPy und Pandas können Datetime-Objekte anderer Module in den Datentyp `datetime64` umwandeln.\n",
        "\n",
        "### Naive und bewusste Datetime-Objekte\n",
        "Datetime-Objekte werden abhängig davon, ob sie Informationen über Zeitzonen enthalten, als naiv (naive) oder als bewusst (aware) bezeichnet. Naiven Datetime-Objekten fehlt diese Information, bewusste Datetime-Objekte enthalten diese. Objekte der Module time, datetime und Pandas verfügen über ein Zeitzonenattribut, sind also bewusst. `np.datetime64` ist seit NumPy-Version 1.11.0 ein naiver Datentyp, unterstützt aber Zeitzonen aus Gründen der Rückwärtskompatibilität.\n",
        "\n",
        "::: {.border layout=\"[5, 90, 5]\"}\n",
        "\n",
        "&nbsp;\n",
        "\n",
        "\"Deprecated since version 1.11.0: NumPy does not store timezone information. For backwards compatibility, datetime64 still parses timezone offsets, which it handles by converting to UTC±00:00 (Zulu time). This behaviour is deprecated and will raise an error in the future.\" [NumPy Dokumentation](https://numpy.org/doc/stable/reference/arrays.datetime.html)  \n",
        "\n",
        "&nbsp;\n",
        "\n",
        ":::\n",
        "\n",
        "#### Zeitzonen\n",
        "Pandas kann mit Zeitzonen umgehen und datetime-Objekte von einer in eine andere Zeitzone umwandeln. Über das Argument `tz` kann in verschiedenen Funktionen die Zeitzone angegeben werden.\n"
      ],
      "id": "e55b0f0d"
    },
    {
      "cell_type": "code",
      "metadata": {},
      "source": [
        "zeitreihe = pd.Series(pd.date_range(start = \"2023-03-26T00:00\", end = \"2023-03-27T00:00\", freq = \"3h\", tz = \"turkey\"))\n",
        "zeitreihe"
      ],
      "id": "0694427f",
      "execution_count": null,
      "outputs": []
    },
    {
      "cell_type": "markdown",
      "metadata": {},
      "source": [
        "Mit der Funktion `pd.to_datetime(arg, utc = True)` kann die Zeitzone in die koordinierte Universalzeit UTC umgewandelt werden.\n"
      ],
      "id": "789ab800"
    },
    {
      "cell_type": "code",
      "metadata": {},
      "source": [
        "pd.to_datetime(zeitreihe, utc = True)"
      ],
      "id": "b1e932ca",
      "execution_count": null,
      "outputs": []
    },
    {
      "cell_type": "markdown",
      "metadata": {},
      "source": [
        "Eine Umwandlung in beliebige Zeitzonen ist mit der Methode `pd.Series.dt.tz_convert(tz = 'utc')` möglich.\n"
      ],
      "id": "5044e3f4"
    },
    {
      "cell_type": "code",
      "metadata": {},
      "source": [
        "zeitreihe.dt.tz_convert(tz = 'portugal')"
      ],
      "id": "64d5af45",
      "execution_count": null,
      "outputs": []
    },
    {
      "cell_type": "markdown",
      "metadata": {},
      "source": [
        "::: {#nte-zeitzonen .callout-note collapse=\"true\"}\n",
        "## verfügbare Zeitzonen ermitteln\n",
        "Der folgende Code gibt die in Python verfügbaren Zeitzonen aus.\n"
      ],
      "id": "8b3e25db"
    },
    {
      "cell_type": "code",
      "metadata": {},
      "source": [
        "from zoneinfo import available_timezones\n",
        "\n",
        "for timezone in sorted(available_timezones()):\n",
        "  print(timezone)"
      ],
      "id": "983ea50d",
      "execution_count": null,
      "outputs": []
    },
    {
      "cell_type": "markdown",
      "metadata": {},
      "source": [
        ":::\n",
        "\n",
        "### Alles ist relativ: die Epoche\n",
        "Python speichert Zeit relativ zu einem zeitlichen Bezugspunkt, der Unix-Zeit, der sogenannten Epoche. Die Epoche kann mit der Funktion `pd.to_datetime(0)` ausgegeben werden. Die Funktion konvertiert Argumente in Zeitpunkte (Timestamp). Ganzzahlen werden dabei als Nanosekunden seit der Epoche interpretiert. Die Funktion werden wir später noch ausführlicher behandeln.\n"
      ],
      "id": "b0991ff0"
    },
    {
      "cell_type": "code",
      "metadata": {},
      "source": [
        "import pandas as pd\n",
        "print(pd.to_datetime(0))"
      ],
      "id": "b3f43838",
      "execution_count": null,
      "outputs": []
    },
    {
      "cell_type": "markdown",
      "metadata": {},
      "source": [
        "::: {#wrn-datetimetimezones .callout-warning appearance=\"simple\" collapse=\"true\"}\n",
        "\n",
        "## Zeit - atomar, koordiniert oder universal?\n",
        "NumPy nutzt die Internationale Atomzeit (abgekürzt TAI für französisch Temps Atomique International). Diese nimmt für jeden Kalendertag eine Länge von 86.400 Sekunden an, kennt also keine Schaltsekunde. Die Atomzeit bildet die Grundlage für die koordinierte Weltzeit UTC.\n",
        "\n",
        "UTC steht für Coordinated Universal Time (auch bekannt als Greenwich Mean Time). Das Kürzel UTC ist ein Kompromiss für die englische und die französische Sprache. Die koordinierte Weltzeit gleicht die Verlangsamung der Erdrotation (astronomisch gemessen als Universalzeit, Universal Time UT) durch Schaltsekunden aus, um die geringfügige Verlängerung eines Tages auszugleichen. Die TAI geht deshalb gegenüber der UTC vor. Seit 1972 unterscheiden sich beide Zeiten um eine ganzzahlige Anzahl von Sekunden. Aktuell (2024) geht die TAI 37 Sekunden gegenüber UTC vor.\n",
        "\n",
        "Eine Umwandlung in die koordinierte Weltzeit ist in NumPy bislang noch nicht umgesetzt. ([Dokumentation NumPy](https://numpy.org/doc/stable/reference/arrays.datetime.html), [Wikipedia](https://de.wikipedia.org/wiki/Internationale_Atomzeit)).\n",
        ":::\n",
        "\n",
        "### Zeitumstellung - Dailight Saving Time\n",
        "::: {.border layout=\"[5, 90, 5]\"}\n",
        "\n",
        "&nbsp;\n",
        "\n",
        "\"DST is Daylight Saving Time, an adjustment of the timezone by (usually) one hour during part of the year. DST rules are magic (determined by local law) and can change from year to year. The C library has a table containing the local rules (often it is read from a system file for flexibility) and is the only source of True Wisdom in this respect.\" ([Dokumentation time](https://docs.python.org/3/library/time.html))\n",
        "\n",
        "&nbsp;\n",
        ":::\n",
        "\n",
        "&nbsp;\n",
        "\n",
        "Pandas arbeitet standardmäßig mit der koordinierten Weltzeit UTC. Die UTC selbst ist keine Zeitzone und kennt deshalb keine Zeitumstellung. Die Zeitumstellung wird abhängig von der Zeitzone berücksichtigt. Beispielsweise wurde die Zeitumstellung in der Türkei 2016 abgeschafft (und die Sommerzeit dauerhaft eingeführt).\n",
        "\n",
        "In den folgenden Beispielen wird am Tag vor der Zeitumstellung um 9 Uhr eine Zeitdifferenz von 24 Stunden addiert. Da über die Nacht (der Morgen des Folgetages) die Uhr um eine Stunde vorgestellt wird, zeigt der resultierende Zeitstempel die Uhrzeit 10 Uhr an, sofern die Zeitumstellung gilt.\n"
      ],
      "id": "cb6126ab"
    },
    {
      "cell_type": "code",
      "metadata": {},
      "source": [
        "print(\"Keine Zeitumstellung in UTC:\")\n",
        "print(pd.Timestamp(\"2025-03-29T09:00\") + pd.Timedelta(24, \"h\"), \"\\n\")\n",
        "\n",
        "print(\"Zeitzone mit Zeitumstellung:\")\n",
        "print(pd.Timestamp(\"2025-03-29T09:00\", tz=\"Europe/Berlin\") + pd.Timedelta(24, \"h\"), \"\\n\")\n",
        "\n",
        "print(\"Heute keine Zeitumstellung in Türkei:\")\n",
        "print(pd.Timestamp(\"2025-03-29T09:00\", tz=\"Turkey\") + pd.Timedelta(24, \"h\"), \"\\n\")\n",
        "\n",
        "print(\"Türkei vor der Abschaffung der Zeitumstellung:\")\n",
        "print(pd.Timestamp(\"2014-03-30T09:00\", tz=\"Turkey\")  + pd.Timedelta(24, \"h\"))"
      ],
      "id": "75d614fd",
      "execution_count": null,
      "outputs": []
    },
    {
      "cell_type": "markdown",
      "metadata": {},
      "source": [
        "Eine Liste der Zeitzonen finden Sie auf Wikipedia: <https://en.wikipedia.org/wiki/List_of_tz_database_time_zones>\n",
        "\n",
        "### Kalender\n",
        "Die Module calendar, NumPy und Pandas verwenden den um die Zeit vor seiner Einführung 1582 erweiterten Gregorianische Kalender, den [proleptischen Gregorianischen Kalender](https://en.wikipedia.org/wiki/Proleptic_Gregorian_calendar). Während das Modul date nur die Jahre 1-9999 nach unserer Zeit unterstützt, erlaubt der Datentyp `datetime64` auch Jahre vor unserer Zeit in [astronomischer Jahresnumerierung](https://en.wikipedia.org/wiki/Astronomical_year_numbering). Das bedeutet, es gibt ein Jahr 0 (das erste Jahr vor unserer Zeit) und vorausgehende Jahre werden mit negativen Zahlen dargestellt (-1 ist das zweite Jahr vor unserer Zeit). [NumPy Dokumentation](https://numpy.org/doc/stable/reference/arrays.datetime.html#datetime64-conventions-and-assumptions)\n",
        "\n",
        "\n",
        "## datetime in Pandas\n",
        "**Dieser Teil ist aus dem m-EsD**  \n",
        "Pandas nutzt den NumPy-Datentyp `datetime64`, um Datums- und Zeitinformationen zu verarbeiten. In Pandas werden `datetime64`-Objekte mit den Funktionen `pd.to_datetime()` oder `pd.date_range()` angelegt.  \n",
        "*Hinweis: Eine weitere Möglichkeit ist die Funktion `pd.Timestamp()`, die umfangreichere Möglichkeiten zur Erzeugung eines Zeitpunkts bietet, aber kein string-parsing unterstützt.*\n",
        "\n",
        "`pd.to_datetime()` erzeugt Werte des Datentyps `datetime64[ns]` (mit `pd.to_datetime()` erzeugte Skalare (Einzelwerte) werden als Timestamp (Zeitpunkt) ausgegeben, die kein Attribut `dtype` haben). Die Funktion `pd.to_datetime()` akzeptiert als Eingabewerte:\n",
        "\n",
        "  - datetime-Objekte anderer Module.\n",
        "\n",
        "  - Zahlen und eine Zeiteinheit `pd.to_datetime(1, unit = None)` (Standard sind Nanosekunden). Das Argument `unit` nimmt die Werte 'ns', 'ms', 's', 'm', 'h', 'D', 'W', 'M', 'Y' für Nanosekunde, Millisekunde, Sekunde, Minute, Stunde, Tag, Woche, Monat bzw. Jahr entgegen. Erzeugt wird ein Zeitpunkt relativ zur Epoche.\n"
      ],
      "id": "c0745236"
    },
    {
      "cell_type": "code",
      "metadata": {},
      "source": [
        "print(pd.to_datetime(1000, unit = 'D'))\n",
        "print(pd.to_datetime(1000 * 1000, unit = 'h'))\n",
        "print(pd.to_datetime(1000 * 1000 * 1000, unit = 's'))"
      ],
      "id": "858525e9",
      "execution_count": null,
      "outputs": []
    },
    {
      "cell_type": "markdown",
      "metadata": {},
      "source": [
        "  - Zeichenketten, die ein Datum oder ein Datum mit Uhrzeit ausdrücken, formatiert nach [ISO 8601](https://www.iso.org/iso-8601-date-and-time-format.html).\n"
      ],
      "id": "d41c3825"
    },
    {
      "cell_type": "code",
      "metadata": {},
      "source": [
        "print(pd.to_datetime('2017'))\n",
        "print(pd.to_datetime('2017-01-01T00'))\n",
        "print(pd.to_datetime('2017-01-01 00:00:00'))"
      ],
      "id": "d115c4de",
      "execution_count": null,
      "outputs": []
    },
    {
      "cell_type": "markdown",
      "metadata": {},
      "source": [
        "  - Anders formatierte Zeichenketten mit dem Argument `format = \"%d/%m/%Y\"` (siehe [Dokumentation strftime zur string-Formatierung](https://docs.python.org/3/library/datetime.html#strftime-and-strptime-behavior)).\n"
      ],
      "id": "88d9ff9b"
    },
    {
      "cell_type": "code",
      "metadata": {},
      "source": [
        "print(pd.to_datetime('Monday, 12. August `24', format = \"%A, %d. %B `%y\"))\n",
        "print(pd.to_datetime('Monday, 12. August 2024, 12:15 Uhr CET', format = \"%A, %d. %B %Y, %H:%M Uhr %Z\"))"
      ],
      "id": "a12a3edf",
      "execution_count": null,
      "outputs": []
    },
    {
      "cell_type": "markdown",
      "metadata": {},
      "source": [
        "  - Dictionary oder DataFrame.\n"
      ],
      "id": "7b04c78a"
    },
    {
      "cell_type": "code",
      "metadata": {},
      "source": [
        "print(pd.to_datetime({'year':[2020, 2024], 'month': [1, 11], 'day': [1, 21]}), \"\\n\")\n",
        "print(pd.to_datetime(pd.DataFrame({'year':[2020, 2024], 'month': [1, 11], 'day': [1, 21]})))"
      ],
      "id": "bb682709",
      "execution_count": null,
      "outputs": []
    },
    {
      "cell_type": "markdown",
      "metadata": {},
      "source": [
        "Die Funktion `pd.date_range()` erzeugt ein Array vom Typ `DatetimeIndex` mit dtype `datetime64`. Genau drei der folgenden vier Argumente sind für die Erzeugung erforderlich: \n",
        "\n",
        "  - `start`: Beginn der Reihe.\n",
        "\n",
        "  - `end`: Ende der Reihe (inklusiv)\n",
        "\n",
        "  - `freq`: Schrittweite (bspw. Jahr, Tag, Geschäftstag, Stunde oder Vielfache wie '6h' - siehe [Liste verfügbarer strings](https://pandas.pydata.org/docs/user_guide/timeseries.html#timeseries-offset-aliases))\n",
        "\n",
        "  - `periods`: Anzahl der zu erzeugenden Werte.\n"
      ],
      "id": "eb3c1688"
    },
    {
      "cell_type": "code",
      "metadata": {},
      "source": [
        "#| warning: false\n",
        "\n",
        "print(pd.date_range(start = '2017', end = '2024', periods = 3), \"\\n\")\n",
        "\n",
        "print(pd.date_range(start = '2017', end = '2024', freq = 'Y'), \"\\n\")\n",
        "\n",
        "print(pd.date_range(end = '2024', freq = 'h', periods = 3))"
      ],
      "id": "15d5e39a",
      "execution_count": null,
      "outputs": []
    },
    {
      "cell_type": "markdown",
      "metadata": {},
      "source": [
        "::: {#wrn-daterange .callout-warning appearance=\"simple\" collapse=\"true\"}\n",
        "## pd.date_range()\n",
        "Die Funktion `pd.date_range()` wird künftig das Kürzel 'Y' nicht mehr unterstützen. Stattdessen können die Kürzel 'YS' (Jahresbeginn) oder 'YE' (Jahresende) verwendet werden. Ebenso wird das Kürzel 'M' künftig durch 'MS' (Monatsstart), 'ME' (Monatsende) ersetzt.\n",
        ":::\n",
        "\n",
        "## timedelta in Pandas\n",
        "\n",
        "Zeitdifferenzen werden mit der Funktion `pd.Timedelta()` erzeugt. Zeitdifferenzen können zum einen durch Angabe einer Ganzzahl und einer Zeiteinheit angelegt werden. Außerdem ist die Übergabe mit Argumenten möglich (zulässige Argumente sind: weeks, days, hours, minutes, seconds, milliseconds, microseconds, nanoseconds).\n"
      ],
      "id": "dbd6f2b3"
    },
    {
      "cell_type": "code",
      "metadata": {},
      "source": [
        "print(pd.Timedelta(1, 'D'))\n",
        "print(pd.Timedelta(days = 1, hours = 1))"
      ],
      "id": "0e8829db",
      "execution_count": null,
      "outputs": []
    },
    {
      "cell_type": "markdown",
      "metadata": {},
      "source": [
        "**Wichtig:** Anders als in NumPy werden Zeitdifferenzen in Monaten und Jahren nicht mehr von Pandas unterstützt.\n"
      ],
      "id": "a0968564"
    },
    {
      "cell_type": "code",
      "metadata": {},
      "source": [
        "try:\n",
        "  print(pd.Timedelta(1, 'Y'))\n",
        "except ValueError as error:\n",
        "  print(error)\n",
        "else:\n",
        "  print(pd.Timedelta(1, 'Y'))"
      ],
      "id": "26cdbf7b",
      "execution_count": null,
      "outputs": []
    },
    {
      "cell_type": "markdown",
      "metadata": {},
      "source": [
        "Zum anderen können Zeitdifferenzen mit einer Zeichenkette erzeugt werden."
      ],
      "id": "7b8c3629"
    },
    {
      "cell_type": "code",
      "metadata": {},
      "source": [
        "print(pd.Timedelta('10sec'))\n",
        "print(pd.Timedelta('10min'))\n",
        "print(pd.Timedelta('10hours'))\n",
        "print(pd.Timedelta('10days'))\n",
        "print(pd.Timedelta('10w'))"
      ],
      "id": "5e019d3c",
      "execution_count": null,
      "outputs": []
    },
    {
      "cell_type": "markdown",
      "metadata": {},
      "source": [
        "Mit Hilfe einer Zeitdifferenz können Zeitreihen leicht verschoben werden.\n"
      ],
      "id": "296799a6"
    },
    {
      "cell_type": "code",
      "metadata": {},
      "source": [
        "pd.date_range(start = '2024-01-01T00:00', end = '2024-01-01T02:00', freq = '15min') + pd.Timedelta('30min')"
      ],
      "id": "e1ab4782",
      "execution_count": null,
      "outputs": []
    },
    {
      "cell_type": "markdown",
      "metadata": {},
      "source": [
        "## Zugriff auf Zeitreihen\n",
        "Pandas bietet zahlreiche Attribute und Methoden, um Informationen aus `datetime64`-Objekten auszulesen. Eine Übersicht aller verfügbaren Attribute und Methoden liefert `dir(pd.to_datetime(0))` bzw. der im folgenden Beispiel gezeigte Code.\n"
      ],
      "id": "7aea9c7d"
    },
    {
      "cell_type": "code",
      "metadata": {},
      "source": [
        "# Attribute\n",
        "print(\"Jahr:\", pd.to_datetime(0).year)\n",
        "print(\"Monat:\", pd.to_datetime(0).month)\n",
        "print(\"Tag:\", pd.to_datetime(0).day)\n",
        "print(\"Stunde:\", pd.to_datetime(0).hour)\n",
        "print(\"Minute:\", pd.to_datetime(0).minute)\n",
        "print(\"Sekunde:\", pd.to_datetime(0).second)\n",
        "print(\"Tag des Jahres:\", pd.to_datetime(0).dayofyear)\n",
        "print(\"Wochentag:\", pd.to_datetime(0).dayofweek)\n",
        "print(\"Tage im Monat:\", pd.to_datetime(0).days_in_month)\n",
        "print(\"Schaltjahr:\", pd.to_datetime(0).is_leap_year)\n",
        "\n",
        "# Methoden\n",
        "print(\"\\nDatum:\", pd.to_datetime(0).date())\n",
        "print(\"Zeit:\", pd.to_datetime(0).time())\n",
        "print(\"Wochentag (0-6):\", pd.to_datetime(0).weekday())\n",
        "print(\"Monatsname:\",  pd.to_datetime(0).month_name())"
      ],
      "id": "9d00e97a",
      "execution_count": null,
      "outputs": []
    },
    {
      "cell_type": "markdown",
      "metadata": {},
      "source": [
        "::: {#nte-attributeundmethoden .callout-note collapse=\"true\"}\n",
        "## Attribute und Methoden eines datetime-Objekts\n"
      ],
      "id": "399eca68"
    },
    {
      "cell_type": "code",
      "metadata": {},
      "source": [
        "objekt = pd.to_datetime(0)\n",
        "\n",
        "attribute = [attr for attr in dir(objekt) if not (callable(getattr(objekt, attr)) or attr.startswith('_'))]\n",
        "print(\"Attribute:\")\n",
        "print(30 * \"=\")\n",
        "print(attribute)\n",
        "\n",
        "methoden = [attr for attr in dir(objekt) if (callable(getattr(objekt, attr)) and not attr.startswith('__'))]\n",
        "print(\"\\nMethoden:\")\n",
        "print(30 * \"=\")\n",
        "print(methoden)"
      ],
      "id": "0a303b8f",
      "execution_count": null,
      "outputs": []
    },
    {
      "cell_type": "markdown",
      "metadata": {},
      "source": [
        ":::\n",
        "\n",
        "Für `pd.Series` erfolgt der Zugriff über den .dt-Operator (siehe [.dt accessor](https://pandas.pydata.org/docs/user_guide/basics.html#basics-dt-accessors)). Der Zugriff auf verschiedene Informationen über ein Attribut (ohne Klammern) oder über eine Methode (mit Klammern) unterscheidet sich jedoch teilweise (siehe folgendes Beispiel).\n",
        "\n",
        ":::: {.callout-note collapse=\"true\"}\n",
        "## Der dt-Operator\n"
      ],
      "id": "3618b6d9"
    },
    {
      "cell_type": "code",
      "metadata": {},
      "source": [
        "# Attribute\n",
        "print(\"Datum:\", pd.Series(pd.to_datetime(0)).dt.date) # Unterschied\n",
        "print(\"Zeit:\", pd.Series(pd.to_datetime(0)).dt.time) # Unterschied\n",
        "print(\"Jahr\", pd.Series(pd.to_datetime(0)).dt.year)\n",
        "print(\"Monat\", pd.Series(pd.to_datetime(0)).dt.month)\n",
        "print(\"Tag\", pd.Series(pd.to_datetime(0)).dt.day)\n",
        "print(\"Stunde\", pd.Series(pd.to_datetime(0)).dt.hour)\n",
        "print(\"Minute\", pd.Series(pd.to_datetime(0)).dt.minute)\n",
        "print(\"Sekunde\", pd.Series(pd.to_datetime(0)).dt.second)\n",
        "\n",
        "print(\"\\nTag des Jahres\", pd.Series(pd.to_datetime(0)).dt.dayofyear)\n",
        "print(\"Wochentag:\", pd.Series(pd.to_datetime(0)).dt.dayofweek)\n",
        "print(\"Wochentag:\", pd.Series(pd.to_datetime(0)).dt.weekday) # Unterschied\n",
        "print(\"Tage im Monat:\", pd.Series(pd.to_datetime(0)).dt.days_in_month)\n",
        "print(\"Schaltjahr:\", pd.Series(pd.to_datetime(0)).dt.is_leap_year)\n",
        "\n",
        "# Methoden\n",
        "print(\"\\nName des Monats:\", pd.Series(pd.to_datetime(0)).dt.month_name())"
      ],
      "id": "bfe89300",
      "execution_count": null,
      "outputs": []
    },
    {
      "cell_type": "markdown",
      "metadata": {},
      "source": [
        "::::\n",
        "\n",
        "## Aufgaben\n",
        "\n",
        "1. Wie alt sind Sie in Tagen? Wie alt in Sekunden?\n",
        "\n",
        "2. An welchem Wochentag war ihr Geburtstag?\n",
        "\n",
        "3. Wie viele Tage sind es noch bis Weihnachten?\n",
        "\n",
        "4. Erstellen Sie eine Liste aller Schaltjahre im 20. Jahrhundert.\n",
        "\n",
        ":::: {#tip-musterlösungaufgaben .callout-tip collapse=\"true\"}\n",
        "## Musterlösung\n",
        "\n",
        "Aufgabe 1\n",
        "\n",
        "Ersetzen sie in der Lösung die Zeichenkette 'YYYY-MM-DD' bzw., wenn Sie die Uhrzeit Ihrer Geburt kennen, die Zeichenkette 'YYYY-MM-DDTHH:MM' durch Ihren Geburtstag.\n",
        "\n",
        "In Pandas werden die Schlüsselwörter `pd.to_datetime('today')` und `pd.to_datetime('now')` in Nanosekunden aufgelöst.  \n",
        "\n",
        "``` {.raw}\n",
        "print((pd.to_datetime('today') - pd.to_datetime('YYYY-MM-DD')).days)\n",
        "print(pd.to_datetime('now') - pd.to_datetime('YYYY-MM-DDTHH:MM')).total_seconds())\n",
        "```\n",
        "\n",
        "Aufgabe 2\n",
        "\n",
        "´´´ {.raw}\n",
        "print(pd.to_datetime('YYYY-MM-DD').day_of_week)\n",
        "´´´\n",
        "\n",
        "Aufgabe 3\n",
        "\n",
        "```\n",
        "(pd.to_datetime('2025-12-25') - pd.to_datetime('now')).days\n",
        "```\n",
        "\n",
        "Aufgabe 4\n"
      ],
      "id": "3467f51d"
    },
    {
      "cell_type": "code",
      "metadata": {},
      "source": [
        "schaltjahre = pd.date_range(start = '1901', end = '2000', freq = 'Y')\n",
        "schaltjahre = schaltjahre[schaltjahre.is_leap_year]\n",
        "print(schaltjahre.year)"
      ],
      "id": "b8234879",
      "execution_count": null,
      "outputs": []
    },
    {
      "cell_type": "markdown",
      "metadata": {},
      "source": [
        "::::"
      ],
      "id": "5f7b2dfd"
    }
  ],
  "metadata": {
    "kernelspec": {
      "name": "python3",
      "language": "python",
      "display_name": "Python 3 (ipykernel)",
      "path": "C:\\Users\\mapoe004\\AppData\\Local\\Programs\\Python\\Python312\\share\\jupyter\\kernels\\python3"
    }
  },
  "nbformat": 4,
  "nbformat_minor": 5
}