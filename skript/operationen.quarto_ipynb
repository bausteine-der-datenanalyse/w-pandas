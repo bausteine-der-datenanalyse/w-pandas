{
  "cells": [
    {
      "cell_type": "markdown",
      "metadata": {},
      "source": [
        "# Operationen\n",
        "Pandas erlaubt wie NumPy vektorisierte Operationen, dass heißt, Berechnungen mit einer Series oder einem DataFrame werden auf jedes Element angewendet. So können die Rechenoperatoren direkt verwendet werden.\n"
      ],
      "id": "b526d7de"
    },
    {
      "cell_type": "code",
      "metadata": {},
      "source": [
        "#| echo: false\n",
        "# recreate DataFrame from previous chapter\n",
        "import numpy as np\n",
        "import pandas as pd\n",
        "\n",
        "# DataFrame erzeugen\n",
        "temperaturen_2021 = pd.Series([2, 4, 7, 12, 19, 23, 25, 23, 18, 15, 9, 5])\n",
        "temperaturen_2022 = pd.Series([3, 6, 9, 13, 18, 21, 24, 23, 19, 14, 8, 4])\n",
        "temperaturen_2023 = pd.Series([-3, -1, 4, 9, 15, 20, 20, 19, 16, 15, 7, 6])\n",
        "temperaturen_2024 = pd.Series([-1, 2, 5, 8, 17, 24, 25, 20, 17, 14, 9, 2])\n",
        "\n",
        "temperaturen = pd.concat([temperaturen_2021, temperaturen_2022, temperaturen_2023, temperaturen_2024], axis = 1)\n",
        "temperaturen.columns = [2021, 2022, 2023, 2024]\n",
        "temperaturen.index = ['Jan', 'Feb', 'Mär', 'Apr', 'Mai', 'Jun', 'Jul', 'Aug', 'Sep', 'Okt', 'Nov', 'Dez']\n",
        "\n",
        "# meerschweinchen einlesen\n",
        "dateipfad = \"01-daten/ToothGrowth.csv\"\n",
        "meerschweinchen = pd.read_csv(filepath_or_buffer = dateipfad, sep = ',', header = 0, \\\n",
        "  names = ['ID', 'len', 'supp', 'dose'], dtype = {'ID': 'int', 'len': 'float', 'dose': 'float', 'supp': 'category'})"
      ],
      "id": "53ddda1c",
      "execution_count": null,
      "outputs": []
    },
    {
      "cell_type": "code",
      "metadata": {},
      "source": [
        "print(\"Temperaturen in Celsius:\")\n",
        "print(27 * \"=\")\n",
        "print(temperaturen, \"\\n\")\n",
        "\n",
        "print(\"Temperaturen in Fahrenheit:\")\n",
        "print(27 * \"=\")\n",
        "print(temperaturen  * 9/5 + 32)"
      ],
      "id": "6629a54f",
      "execution_count": null,
      "outputs": []
    },
    {
      "cell_type": "markdown",
      "metadata": {},
      "source": [
        "Auch boolsche Operationen können direkt ausgeführt werden. \n"
      ],
      "id": "b2607302"
    },
    {
      "cell_type": "code",
      "metadata": {},
      "source": [
        "print(\"Minusgrade:\")\n",
        "print(27 * \"=\")\n",
        "print(temperaturen  < 0)"
      ],
      "id": "9d881458",
      "execution_count": null,
      "outputs": []
    },
    {
      "cell_type": "markdown",
      "metadata": {},
      "source": [
        "## Zeilen- und spaltenweise Operationen\n",
        "Pandas umfasst eine Vielzahl von Methoden, die arithmetische, summarische, boolsche und Indexfunktionen umsetzen. Eine vollständige Übersicht finden Sie hier: <https://pandas.pydata.org/docs/reference/index.html>.\n",
        "\n",
        "In der Regel werden die Funktionen standardmäßig spaltenweise angewendet. Mit dem Argument `axis = 1` wird die jeweilige Funktion zeilenweise ausgeführt. Die Funktionen sind auch für Series verfügbar.\n",
        "\n",
        "Im Folgenden werden einige Methoden exemplarisch vorgestellt.\n",
        "\n",
        "### arithmetische Funktionen\n",
        "Die Methoden `pd.DataFrame.add()`, `pd.DataFrame.sub()`, `pd.DataFrame.mul()`, `pd.DataFrame.div()`, `pd.DataFrame.floordiv()`, `pd.DataFrame.mod()` und `pd.DataFrame.pow()` entsprechen den Grundrechenarten mit den Operatoren  +, -, *, /, //, %, **. Sie eignen sich gut für verkettete Operationen.\n"
      ],
      "id": "0ff70679"
    },
    {
      "cell_type": "code",
      "metadata": {},
      "source": [
        "print(\"Temperaturen in Fahrenheit:\")\n",
        "print(27 * \"=\")\n",
        "print(temperaturen.mul(9).div(5).add(32))"
      ],
      "id": "e1129fe1",
      "execution_count": null,
      "outputs": []
    },
    {
      "cell_type": "markdown",
      "metadata": {},
      "source": [
        "Außerdem kann mit dem Parameter ` fill_value` ein Füllwert für fehlende Werte spezifiziert werden (dieser wird vor der Operation eingesetzt). Wie NumPys `np.nan` umfasst auch Pandas einen speziellen fehlenden Wert: `pd.NA` (achten Sie auf den Datentyp der Ausgabe). Der Umgang mit fehlenden Werten wird ausführlich im Methodenbaustein Einlesen strukturierter Datensätze behandelt **Querverweis hier**.\n"
      ],
      "id": "67eed1ec"
    },
    {
      "cell_type": "code",
      "metadata": {},
      "source": [
        "#| warning: false\n",
        "missing_value = pd.Series([1, pd.NA, 3])\n",
        "print(missing_value.add(1, fill_value = -999), \"\\n\")\n",
        "print(missing_value.add(1, fill_value = np.nan), \"\\n\")\n",
        "print(missing_value.add(1, fill_value = pd.NA))"
      ],
      "id": "805fe490",
      "execution_count": null,
      "outputs": []
    },
    {
      "cell_type": "markdown",
      "metadata": {},
      "source": [
        "### summarische Funktionen\n",
        "\n",
        "  - `pd.DataFrame.mean()` ermittelt den Durchschnitt.\n",
        "  - `pd.DataFrame.median()` ermittelt den Median.\n",
        "  - `pd.DataFrame.mode()` ermittelt den Modus.\n",
        "  - `pd.DataFrame.sum()` ermittelt die Summe.\n",
        "  - `pd.DataFrame.cumsum()` ermittelt die kummulierte Summe.\n",
        "  - `pd.DataFrame.min()` und `pd.DataFrame.max()` ermitteln Minimum bzw. Maximum.\n",
        "  - `pd.DataFrame.cummin()` und `pd.DataFrame.cummax()` ermittelt das kummulierte Minimum bzw. Maximum.\n"
      ],
      "id": "d71feccd"
    },
    {
      "cell_type": "code",
      "metadata": {},
      "source": [
        "# spaltenweise\n",
        "print(\"Mittlere Jahrestemperaturen\")\n",
        "print(27 * \"=\")\n",
        "print(temperaturen.mean(), \"\\n\")\n",
        "\n",
        "# zeilenweise\n",
        "print(\"Monatliche Mindesttemperatur\")\n",
        "print(28 * \"=\")\n",
        "print(temperaturen.min(axis = 1))"
      ],
      "id": "0545d1dd",
      "execution_count": null,
      "outputs": []
    },
    {
      "cell_type": "markdown",
      "metadata": {},
      "source": [
        "### boolsche Funktionen\n",
        "Pandas bietet wie die Pythonbasis verschiedene boolsche Funktionen.\n",
        "\n",
        "`pd.DataFrame.isin(values)` prüft für jedes Element des DataFrame, ob dieses in `values` enthalten ist. Mit dem Operator `~` kann geprüft werden, ob die Elemente eines DataFrame nicht in `values` enthalten sind: `~pd.DataFrame.isin(values)`.  \n",
        "  Die Funktionsausführung ist abhängig vom Datentyp des in `values` übergebenen Objekts.\n",
        "\n",
        "  - Wenn `values` eine Liste oder ein NumPy-Array ist, ist das Ergebnis True, wenn es eine Übereinstimmung mit einem der enthaltenen Elemente gibt.\n",
        "  - Ist `value` eine Series oder ein DataFrame, wird die Übereinstimmung positionsbasiert überprüft (siehe Beispiel).\n",
        "\n",
        "::: {#nte-isin .callout-note collapse=\"true\"}\n",
        "## klassenabhängige Funktionsausführung\n",
        "\n",
        ":::: {.panel-tabset}\n",
        "## Einzelwerte oder Liste\n",
        "Für Einzelwerte oder eine Liste wird die Übereinstimmung elementweise überprüft."
      ],
      "id": "56389f27"
    },
    {
      "cell_type": "code",
      "metadata": {},
      "source": [
        "print(temperaturen, \"\\n\")\n",
        "\n",
        "print(temperaturen.isin([2, 3]))"
      ],
      "id": "0d956223",
      "execution_count": null,
      "outputs": []
    },
    {
      "cell_type": "markdown",
      "metadata": {},
      "source": [
        "## NumPy-Array\n",
        "Für ein NumPy-Array wird die Übereinstimmung elementweise überprüft (vergleiche zum nächsten Reiter)."
      ],
      "id": "2e1cef1c"
    },
    {
      "cell_type": "code",
      "metadata": {},
      "source": [
        "print(type(temperaturen[2021].values), \"\\n\")\n",
        "\n",
        "print(temperaturen.isin(temperaturen[2021].values))"
      ],
      "id": "03d2648f",
      "execution_count": null,
      "outputs": []
    },
    {
      "cell_type": "markdown",
      "metadata": {},
      "source": [
        "## Series\n",
        "Für eine Series wird die Übereinstimmung positionsweise geprüft (vergleiche zum vorherigen Reiter). Der Index muss übereinstimmen."
      ],
      "id": "76156c44"
    },
    {
      "cell_type": "code",
      "metadata": {},
      "source": [
        "print(temperaturen.isin(temperaturen[2021]), \"\\n\")\n",
        "\n",
        "temperaturen_2021_falscher_index = pd.Series([2, 4, 7, 12, 19, 23, 25, 23, 18, 15, 9, 5])\n",
        "temperaturen_2021_falscher_index.index = ['A', 'B', 'C', 'D', 'E', 'F', 'Jul', 'Aug', 'Sep', 'Okt', 'Nov', 'Dez']\n",
        "\n",
        "print(\"Der Index der Series lautet:\\n['A', 'B', 'C', 'D', 'E', 'F', 'Jul', 'Aug', 'Sep', 'Okt', 'Nov', 'Dez']. Das Ergebnis an den Indexpositionen A-F ist immer False.\")\n",
        "print(temperaturen.isin(temperaturen_2021_falscher_index))"
      ],
      "id": "91814d95",
      "execution_count": null,
      "outputs": []
    },
    {
      "cell_type": "markdown",
      "metadata": {},
      "source": [
        "## DataFrame\n",
        "Für einen DataFrame wird die Übereinstimmung positionsweise geprüft. Index und Spaltennamen müssen übereinstimmen (Index siehe Reiter Series).\n"
      ],
      "id": "7913a872"
    },
    {
      "cell_type": "code",
      "metadata": {},
      "source": [
        "temperaturen_2021_df = pd.DataFrame(temperaturen[2021])\n",
        "print(temperaturen.isin(temperaturen_2021_df), \"\\n\")\n",
        "\n",
        "temperaturen_2021_df.columns = [2035]\n",
        "print(temperaturen.isin(temperaturen_2021_df), \"\\n\")"
      ],
      "id": "e434a5fe",
      "execution_count": null,
      "outputs": []
    },
    {
      "cell_type": "markdown",
      "metadata": {},
      "source": [
        "::::\n",
        ":::\n",
        "\n",
        "\n",
        "::: {#tip-documentation .callout-tip}\n",
        "## Überraschungen vermeiden\n",
        "\n",
        "Eine klassenabhängige Funktionsausführung kann, wenn das Verhalten unbemerkt bleibt, die Ergebnisse einer Datenanalyse verfälschen. Um dies zu verhindern, sollten Sie 3 allgemeine Ratschläge befolgen:\n",
        "\n",
        "1. Schauen Sie in die Dokumentation der jeweiligen Funktion. Python und viele Module entwickeln sich dynamisch, sodass sich das Verhalten einer Funktion verändern kann.\n",
        "\n",
        "2. Gehen Sie schrittweise vor und lassen sich die Zwischenergebnisse von Arbeitsschritten mit der Funktion `print()` ausgeben.\n",
        "\n",
        "3. Bei großen Datenmengen ist es häufig einfacher, mit eigens erzeugten Testdaten zu arbeiten. Ein zehnzeiliger DataFrame mit den Datentypen und der Struktur der Arbeitsdaten, ist leichter zu überblicken. Nutzen Sie einen solchen Testdatensatz um die von Ihnen verwendeten Funktionen zu überprüfen.\n",
        ":::\n",
        "\n",
        "Eine Gruppe von Funktionen setzt logische Vergleiche um.\n",
        "\n",
        "| Funktion | Vergleich |\n",
        "|---|---|\n",
        "| `pd.DataFrame.lt(other)` | kleiner |\n",
        "| `pd.DataFrame.le(other)` | kleiner gleich |\n",
        "| `pd.DataFrame.eq(other)` | gleich |\n",
        "| `pd.DataFrame.ne(other)` | ungleich |\n",
        "| `pd.DataFrame.ge(other)` | größer gleich |\n",
        "| `pd.DataFrame.gt(other)` | größer |\n"
      ],
      "id": "5413e33b"
    },
    {
      "cell_type": "code",
      "metadata": {},
      "source": [
        "print(temperaturen.le(2), \"\\n\")\n",
        "print(temperaturen[2021].gt(5))"
      ],
      "id": "b4518d06",
      "execution_count": null,
      "outputs": []
    },
    {
      "cell_type": "markdown",
      "metadata": {},
      "source": [
        "### Verwendung der Methoden .agg() und .apply()\n",
        "Pandas bringt zwei eigene Methoden mit, um Operationen zeilen- oder spaltenweise auszuführen. `DataFrame.agg()` (oder auch `DataFrame.aggregate()`) aggregiert einen DataFrame zeilen- oder spaltenweise durch eine Funktion. Die Pandas-Methode `DF.apply()` wendet eine Funktion zeilen- oder spaltenweise auf einen DataFrame an. Die Methoden sind also sehr ähnlich und führen in den meisten Fällen zum selben Ergebnis.\n",
        "\n",
        "Beide Funktionen führen mit dem Argument `axis = 1` Operationen zeilenweise aus.\n",
        "\n",
        "::: {.panel-tabset}\n",
        "\n",
        "## Funktion"
      ],
      "id": "f931b547"
    },
    {
      "cell_type": "code",
      "metadata": {},
      "source": [
        "def my_plus_ten(x):\n",
        "  y = x + 10\n",
        "  return y\n",
        "\n",
        "print(temperaturen.agg(my_plus_ten), \"\\n\")\n",
        "print(temperaturen.apply(my_plus_ten))"
      ],
      "id": "b3a06699",
      "execution_count": null,
      "outputs": []
    },
    {
      "cell_type": "markdown",
      "metadata": {},
      "source": [
        "## Funktionsname"
      ],
      "id": "a1fdaab7"
    },
    {
      "cell_type": "code",
      "metadata": {},
      "source": [
        "print(temperaturen.agg(\"sum\"), \"\\n\")\n",
        "print(temperaturen.apply(\"sum\"))"
      ],
      "id": "5dfe5502",
      "execution_count": null,
      "outputs": []
    },
    {
      "cell_type": "markdown",
      "metadata": {},
      "source": [
        "## Liste von Funktionen"
      ],
      "id": "d992a1ed"
    },
    {
      "cell_type": "code",
      "metadata": {},
      "source": [
        "print(temperaturen.agg([\"sum\", \"mean\", \"median\"]), \"\\n\")\n",
        "print(temperaturen.apply([\"sum\", \"mean\", \"median\"]))"
      ],
      "id": "86e74e9e",
      "execution_count": null,
      "outputs": []
    },
    {
      "cell_type": "markdown",
      "metadata": {},
      "source": [
        "## Dictionary von Funktionen"
      ],
      "id": "d7069e1b"
    },
    {
      "cell_type": "code",
      "metadata": {},
      "source": [
        "print(temperaturen.agg({2021: \"sum\", 2022: \"mean\", 2023: \"median\", 2024: \"min\"}), \"\\n\")\n",
        "print(temperaturen.apply({2021: \"sum\", 2022: \"mean\", 2023: \"median\", 2024: \"min\"}), \"\\n\")"
      ],
      "id": "5d8dcd1d",
      "execution_count": null,
      "outputs": []
    },
    {
      "cell_type": "markdown",
      "metadata": {},
      "source": [
        ":::\n",
        "\n",
        "Besonders nützlich ist die Möglichkeit, Funktionen, die normalerweise auf eine Series angewendet werden, auf jedes Element der Series anzuwenden. Dafür wird die lambda Syntax verwendet: `lambda x: x + 1`. lambda ist ein Platzhalter und kann als \"für jedes x tue:\" gelesen werden. So kann beispielsweise die Anzahl der Zeichen in jeder Zeile bestimmt werden.\n"
      ],
      "id": "6d4c12a1"
    },
    {
      "cell_type": "code",
      "metadata": {},
      "source": [
        "#| warning: false\n",
        "\n",
        "# Auf die Series angewendet\n",
        "print(len(str(temperaturen[2021])), \"\\n\")\n",
        "\n",
        "# Elementweise angewendet\n",
        "print(temperaturen[2021].agg(lambda x: len(str(x))), \"\\n\") # deprecated\n",
        "print(temperaturen[2021].apply(lambda x: len(str(x))), \"\\n\")"
      ],
      "id": "b3a49392",
      "execution_count": null,
      "outputs": []
    },
    {
      "cell_type": "markdown",
      "metadata": {},
      "source": [
        "Details zur Verwendung des [Lambda-Ausdrucks](https://docs.python.org/3/reference/expressions.html#lambda) finden Sie in der Dokumentation. \n",
        "\n",
        "Der Vollständigkeit wegen ist zu erwähnen, dass mit den Methoden `.map()` und `.transform()` weitere, sehr ähnliche Alternativen bestehen. Bei Interesse können Sie die Unterschiede [in diesem Artikel](https://towardsdatascience.com/pandas-apply-map-or-transform-dd931659e9cf/) nachlesen.\n"
      ],
      "id": "ffb3e574"
    },
    {
      "cell_type": "code",
      "metadata": {},
      "source": [
        "# print(temperaturen[2021].map(lambda x: len(str(x))))\n",
        "# print(temperaturen[2021].transform(lambda x: len(str(x))), \"\\n\") "
      ],
      "id": "ac6ac767",
      "execution_count": null,
      "outputs": []
    },
    {
      "cell_type": "markdown",
      "metadata": {},
      "source": [
        "## Aufgaben Operationen\n",
        "1. Bestimmen Sie für den Dataframe temperaturen die monatliche Mediantemperatur.\n",
        "\n",
        "2. Ermitteln Sie die Monate mit einer Mediantemperatur größer gleich 21 Grad.\n",
        "\n",
        "3. Geben Sie die Indexbeschriftung dieser Monate aus.\n",
        "\n",
        "::: {#tip-loesungoperationen .callout-tip collapse=\"true\"}\n",
        "## Musterlösung Aufgaben Operationen\n",
        "\n",
        "1. Aufgabe \n"
      ],
      "id": "ef8d6e92"
    },
    {
      "cell_type": "code",
      "metadata": {},
      "source": [
        "print(temperaturen.mean(axis = 1))"
      ],
      "id": "a0576b1b",
      "execution_count": null,
      "outputs": []
    },
    {
      "cell_type": "markdown",
      "metadata": {},
      "source": [
        "2. Aufgabe \n"
      ],
      "id": "8c38c0d4"
    },
    {
      "cell_type": "code",
      "metadata": {},
      "source": [
        "print(temperaturen.mean(axis = 1).ge(21))"
      ],
      "id": "de85d84f",
      "execution_count": null,
      "outputs": []
    },
    {
      "cell_type": "markdown",
      "metadata": {},
      "source": [
        "3. Aufgabe \n"
      ],
      "id": "f487d89c"
    },
    {
      "cell_type": "code",
      "metadata": {},
      "source": [
        "print(temperaturen.index[temperaturen.mean(axis = 1).ge(21)], \"\\n\")\n",
        "\n",
        "# als Liste\n",
        "print(list(temperaturen.index[temperaturen.mean(axis = 1).ge(21)]), \"\\n\")"
      ],
      "id": "094e203b",
      "execution_count": null,
      "outputs": []
    },
    {
      "cell_type": "markdown",
      "metadata": {},
      "source": [
        ":::\n",
        "\n",
        "## Suchen und ersetzen\n",
        "Um die Indexposition eines bestimmten Werts zu bestimmen, kann die Numpy-Funktion `np.where()` verwendet werden. Diese gibt zwei Arrays mit den jeweiligen Zeilen- und Spaltennummern zurück.\n"
      ],
      "id": "a5e87a3d"
    },
    {
      "cell_type": "code",
      "metadata": {},
      "source": [
        "print(np.where(temperaturen == 4))"
      ],
      "id": "933054e1",
      "execution_count": null,
      "outputs": []
    },
    {
      "cell_type": "markdown",
      "metadata": {},
      "source": [
        "Unter anderem befindet sich der Wert 4 in Zeile 1 in Spalte 0 oder auch in Zeile 2 in Spalte 2.\n"
      ],
      "id": "da6672e3"
    },
    {
      "cell_type": "code",
      "metadata": {},
      "source": [
        "print(temperaturen.iloc[1, 0])\n",
        "print(temperaturen.iloc[2, 2])"
      ],
      "id": "9eca6a4d",
      "execution_count": null,
      "outputs": []
    },
    {
      "cell_type": "markdown",
      "metadata": {},
      "source": [
        "Pandas bietet zwei Methoden, um Werte zu ersetzen.\n",
        "  \n",
        "  - `pd.DataFrame.replace(to_replace, value, *, inplace = False)` ersetzt `to_replace` mit `value`. Mit dem Argument `inplace = True` erfolgt dies direkt im Objekt.\n",
        "\n",
        "  - `pd.where(cond, other = nan, inplace = False)` behält `cond` und ersetzt alle anderen Werte mit `other` (standardmäßig ein Platzhalter für fehlende Werte). Mit dem Argument `inplace = True` erfolgt dies direkt im Objekt.\n",
        "\n",
        "Die Syntax beider Funktionen unterscheidet sich leicht, wie im folgenden Beispiel zu sehen ist."
      ],
      "id": "92f66008"
    },
    {
      "cell_type": "code",
      "metadata": {},
      "source": [
        "print(temperaturen.replace(to_replace = 25, value = 1000), \"\\n\")\n",
        "print(temperaturen.where(temperaturen == 25, other = 1000))"
      ],
      "id": "6569cbc3",
      "execution_count": null,
      "outputs": []
    },
    {
      "cell_type": "markdown",
      "metadata": {},
      "source": [
        "## Aufgaben suchen und ersetzen\n",
        "1. Bestimmen Sie die Position der Werte im DataFrame 'temperaturen', die kleiner als 0 sind und geben Sie die Werte aus.\n",
        "\n",
        "2. Ersetzen Sie alle Werte im DataFrame temperaturen, die kleiner sind als 0 durch den Wert 0 und geben Sie das Ergebnis aus.\n",
        "\n",
        "::: {#tip-loesung-suchenersetzen .callout-tip collapse=\"true\"}\n",
        "## Musterlösung suchen und ersetzen\n",
        "\n",
        "1. Aufgabe"
      ],
      "id": "ce6f5c94"
    },
    {
      "cell_type": "code",
      "metadata": {},
      "source": [
        "print(np.where(temperaturen <= 0))\n",
        "print(\"Anzahl Werte:\", len(np.where(temperaturen <= 0)[0]))\n",
        "\n",
        "for i in range(len(np.where(temperaturen <= 0)[0])):\n",
        "  print(temperaturen.iloc[np.where(temperaturen <= 0)[0][i], np.where(temperaturen <= 0)[1][i]])"
      ],
      "id": "72249311",
      "execution_count": null,
      "outputs": []
    },
    {
      "cell_type": "markdown",
      "metadata": {},
      "source": [
        "2. Aufgabe"
      ],
      "id": "bbc1f11a"
    },
    {
      "cell_type": "code",
      "metadata": {},
      "source": [
        "print(temperaturen.where(temperaturen > 0, other = 0))"
      ],
      "id": "dab3a220",
      "execution_count": null,
      "outputs": []
    },
    {
      "cell_type": "markdown",
      "metadata": {},
      "source": [
        ":::\n",
        "\n",
        "## Sortieren\n",
        "Die Methode `DataFrame.sort_index(axis = 0, ascending = True, inplace = False)` sortiert entlang einer Achse, standardmäßig aufsteigend nach dem Index. Durch die Übergabe des Arguments `axis = 1` werden die Spalten sortiert. Mit dem Argument `ascending = False` wird absteigend sortiert. Das Argument `inplace = True` sorgt, wie gewohnt, dafür, dass das Ergebnis des Sortiervorgangs direkt im Objekt gespeichert wird.\n"
      ],
      "id": "95a227a1"
    },
    {
      "cell_type": "code",
      "metadata": {},
      "source": [
        "print(temperaturen.sort_index(), \"\\n\")\n",
        "print(temperaturen.sort_index(axis = 1, ascending = False))"
      ],
      "id": "7afcd8dd",
      "execution_count": null,
      "outputs": []
    },
    {
      "cell_type": "markdown",
      "metadata": {},
      "source": [
        "Die Methode `DataFrame.sort_values(by, *, axis = 0, ascending = True, inplace = False)` sortiert Werte entlang einer Achse, standardmäßig entlang des Index (`axis = 0`). Dem Parameter `by` sind [laut Dokumentation](https://pandas.pydata.org/pandas-docs/version/2.1/reference/api/pandas.DataFrame.sort_values.html) der Spaltenname als string bzw. eine Liste von Spaltennamen als string zu übergeben, nach denen sortiert werden soll. Wie im folgenden Code-Beispiel zu sehen ist, muss die numerische Spaltenbeschriftung jedoch auch in numerischer Form übergeben werden.\n",
        "\n",
        "Wird mit dem Argument `axis = 1` entlang der zweiten Dimension sortiert, werden entsprechend Indexbeschriftungen übergeben.\n"
      ],
      "id": "b5484807"
    },
    {
      "cell_type": "code",
      "metadata": {},
      "source": [
        "# Sortieren nach numerischen Spaltenbeschriftungen\n",
        "print(temperaturen.sort_values(by = 2021), \"\\n\")\n",
        "print(temperaturen.sort_values(by = [2021, 2023]), \"\\n\")\n",
        "\n",
        "# Sortieren nach als string übergebenen Spaltenbeschriftungen\n",
        "# führt zu KeyError, die Fehlermeldung wird nicht vollständig abgefangen\n",
        "try:\n",
        "  print(temperaturen.sort_values(by = '2021'))\n",
        "except Exception as error:\n",
        "  print(error)"
      ],
      "id": "ba7dc0ff",
      "execution_count": null,
      "outputs": []
    },
    {
      "cell_type": "markdown",
      "metadata": {},
      "source": [
        "## Aufgaben Sortieren\n",
        "1. Sortieren Sie den DataFrame meerschweinchen absteigend nach der Zahnlänge ('len'). Welches Meerschweinchen hat die längste zahnbildende Zelle (gesucht ist die ID)?\n",
        "\n",
        "2. Welches Meerschweinchen, welches die Dosis 1.0 erhielt, hat die längste zahnbildende Zelle (gesucht ist die ID)?\n",
        "\n",
        "::: {#tip-musterloesungsortieren .callout-tip collapse = \"true\"}\n",
        "## Musterlösung Sortieren\n",
        "\n",
        "1. Aufgabe"
      ],
      "id": "f4fce91e"
    },
    {
      "cell_type": "code",
      "metadata": {},
      "source": [
        "print(meerschweinchen.sort_values(by = 'len', ascending = False).head(), \"\\n\")\n",
        "\n",
        "print(\"Die ID lautet:\", meerschweinchen.sort_values(by = 'len', ascending = False).iloc[0, 0])"
      ],
      "id": "80b4d598",
      "execution_count": null,
      "outputs": []
    },
    {
      "cell_type": "markdown",
      "metadata": {},
      "source": [
        "2. Aufgabe\n"
      ],
      "id": "393943a3"
    },
    {
      "cell_type": "code",
      "metadata": {},
      "source": [
        "dose_1 = meerschweinchen[meerschweinchen['dose'] == 1.0]\n",
        "\n",
        "print(dose_1.sort_values(by = 'len', ascending = False).head(), \"\\n\")\n",
        "\n",
        "print(\"Die ID lautet:\", dose_1.sort_values(by = 'len', ascending = False).iloc[0, 0])"
      ],
      "id": "c585ef14",
      "execution_count": null,
      "outputs": []
    },
    {
      "cell_type": "markdown",
      "metadata": {},
      "source": [
        ":::\n",
        "\n",
        "## GroupBy\n",
        "Die Methode `pd.groupby()` teilt einen DataFrame (oder eine Series) in Gruppen auf und gibt ein GroupBy-Objekt zurück. Das GroupBy-Objekt hat dieselben Spalten- und Zeilenbeschriftungen wie der DataFrame, das GroupBy-Objekt ist aber nach der Gruppenaufteilung sortiert. Operationen, die auf das GroupBy-Objekt angewendet werden, werden für jede Gruppe separat ausgeführt. \n",
        "\n",
        "Dies kann am Datensatz 'meerschweinchen' im folgenden Panel nachvollzogen werden.\n",
        "\n",
        "  1. Reiter: Der Datensatz enthält 60 Einträge. Die ersten 30 Einträge haben in der Spalte 'supp' die Ausprägung VC für Vitamin C, die letzten 30 Einträge die Ausprägung OJ für Orangensaft.\n",
        "  \n",
        "  2. Reiter: Mit der Methode `pd.groupby('supp')` kann der Datensatz nach den Merkmalsausprägungen in der Spalte 'dose' (0.5, 1 und 2) gruppiert werden.\n",
        "\n",
        "  3. Reiter: Auf das Groupby-Objekt können Operationen ausgeführt werden. Beispielsweise kann die Spalte 'len' ausgewählt und mit der Methode `.mean()` die mittlere Länge der zahnbildenden Zelle bestimmt werden.\n",
        "\n",
        "  4. Reiter: Ebenso kann nach den Ausprägungen mehrerer Merkmale gruppiert werden, indem diese als Liste übergeben werden `pd.groupby(by = ['supp', 'dose'])`.\n",
        "\n",
        "::: {.panel-tabset}\n",
        "## DataFrame meerschweinchen\n"
      ],
      "id": "2086d8a0"
    },
    {
      "cell_type": "code",
      "metadata": {},
      "source": [
        "print(meerschweinchen.head(n = 12))"
      ],
      "id": "102fe49c",
      "execution_count": null,
      "outputs": []
    },
    {
      "cell_type": "markdown",
      "metadata": {},
      "source": [
        "## meerschweinchen gruppiert nach Verabreichungsart\n",
        "Für die Methode `.head()` wurde das Argument n halbiert, um die gleiche Zeilenzahl in der Ausgabe anzeigen zu lassen, da auch diese Methode für jede der beiden Gruppen (VC und OJ) ausgeführt wird. \n"
      ],
      "id": "90c61175"
    },
    {
      "cell_type": "code",
      "metadata": {},
      "source": [
        "#| warning: false\n",
        "print(meerschweinchen.groupby('supp').head(n = 6))"
      ],
      "id": "30f83f44",
      "execution_count": null,
      "outputs": []
    },
    {
      "cell_type": "markdown",
      "metadata": {},
      "source": [
        "## Länge nach Verabreichungsart"
      ],
      "id": "8e501ab8"
    },
    {
      "cell_type": "code",
      "metadata": {},
      "source": [
        "#| warning: false\n",
        "print(meerschweinchen.groupby(by = 'supp')['len'].mean())"
      ],
      "id": "f0d99c93",
      "execution_count": null,
      "outputs": []
    },
    {
      "cell_type": "markdown",
      "metadata": {},
      "source": [
        "## Länge nach Verabreichungsart und Dosis\n"
      ],
      "id": "3cb17c6b"
    },
    {
      "cell_type": "code",
      "metadata": {},
      "source": [
        "#| warning: false\n",
        "print(meerschweinchen.groupby(by = ['supp', 'dose'])['len'].mean())"
      ],
      "id": "2651b8c5",
      "execution_count": null,
      "outputs": []
    },
    {
      "cell_type": "markdown",
      "metadata": {},
      "source": [
        ":::\n",
        "\n",
        "## Aufgaben GroupBy\n",
        "\n",
        "Der Datensatz Motor Trend Car Road Tests (mtcars) stammt aus der us-amerikanischen \n",
        "Zeitschrift Motor Trend von 1974 und enthalt Daten für 32 Autos.\n",
        "\n",
        "::: {.border}\n",
        "\n",
        ":::: {#lst-readfile2}"
      ],
      "id": "1c44a96d"
    },
    {
      "cell_type": "code",
      "metadata": {},
      "source": [
        "mtcars = pd.read_csv(filepath_or_buffer = \"C:/Users/mapoe004/Desktop/Arbeitsordner Maik Poetzsch/BCD/Bausteine/Werkzeugbausteine/w-Pandas/w-pandas/aufgaben/01-daten/mtcars.csv\", sep = \",\")\n",
        "mtcars.rename(columns = {'Unnamed: 0': 'car'}, inplace = True)\n",
        "\n",
        "mtcars.head()"
      ],
      "id": "50fef32c",
      "execution_count": null,
      "outputs": []
    },
    {
      "cell_type": "markdown",
      "metadata": {},
      "source": [
        "::::\n",
        "\n",
        "| Spalte | Bedeutung  |\n",
        "|---|---|\n",
        "| mpg | Kraftstoffverbrauch in Meilen pro Gallone |\n",
        "| cyl | Anzahl Zylinder |\n",
        "| disp | Hubraum in Kubikzoll |\n",
        "| hp | Pferdestärken  |\n",
        "| drat | Hinterachsübersetzung |\n",
        "| wt | Gewicht in 1000 Pfund |\n",
        "| qsec | Zeit auf der Viertelmeile  |\n",
        "| vs | Motor (0 = V-Motor, 1 = Reihenmotor)  |\n",
        "| am | Schaltung (0 = Automatik, 1 = Handschaltung) |\n",
        "| gear | Anzahl der Vorwärtsgänge  |\n",
        "| carb | Anzahl der Vergaser  |\n",
        "\n",
        "Henderson and Velleman 1981. Building multiple regression models interactively. Biometrics 37: 391–411. Der Datensatz ist abrufbar auf [GitHub](https://gist.github.com/seankross/a412dfbd88b3db70b74b) und in R verfügbar.\n",
        ":::\n",
        "\n",
        "&nbsp;\n",
        "\n",
        "1. Gruppieren Sie den Datensatz nach der Anzahl Zylinder und ermitteln Sie den durchschnittlichen Kraftstoffverbrauch für jede Gruppe.\n",
        "\n",
        "2. Wie viele Liter auf 100 Kilometer sind es?\n",
        "\n",
        "3. Gruppieren Sie den Datensatz nach der Anzahl der Zylinder und der Vergaser. Welche Gruppe ist am schnellsten auf der Viertelmeile?\n",
        "\n",
        "::: {#tip-loesunggroupby .callout-tip collapse=\"true\"}\n",
        "## Musterlösung GroupBy\n",
        "\n",
        "1. Aufgabe\n"
      ],
      "id": "6444a19b"
    },
    {
      "cell_type": "code",
      "metadata": {},
      "source": [
        "mtcars.groupby(by = 'cyl')['mpg'].mean() "
      ],
      "id": "cf48b839",
      "execution_count": null,
      "outputs": []
    },
    {
      "cell_type": "markdown",
      "metadata": {},
      "source": [
        "2. Aufgabe\n"
      ],
      "id": "01112dc2"
    },
    {
      "cell_type": "code",
      "metadata": {},
      "source": [
        "# 1 Meile = 1.60934 Kilometer\n",
        "# 1 Gallone = 3.78541 Liter\n",
        "\n",
        "mpg = mtcars.groupby(by = 'cyl')['mpg'].mean()\n",
        "\n",
        "liter_100km = 1 / mpg.mul(1.60934).div(3.78541).div(100)\n",
        "\n",
        "print(liter_100km)"
      ],
      "id": "6bdd83c2",
      "execution_count": null,
      "outputs": []
    },
    {
      "cell_type": "markdown",
      "metadata": {},
      "source": [
        "3. Aufgabe\n"
      ],
      "id": "f8b11267"
    },
    {
      "cell_type": "code",
      "metadata": {},
      "source": [
        "print(mtcars.groupby(by = ['cyl', 'carb'])['qsec'].mean(), \"\\n\")\n",
        "print(mtcars.groupby(by = ['cyl', 'carb'])['qsec'].mean().index[-1], \"\\n\")"
      ],
      "id": "c2d60299",
      "execution_count": null,
      "outputs": []
    },
    {
      "cell_type": "markdown",
      "metadata": {},
      "source": [
        "Die Gruppe mit 8 Zylindern und 8 Vergasern ist am schnellsten. (Hinweis: Es handelt sich hierbei um einen sogenannten [MultiIndex](https://pandas.pydata.org/docs/user_guide/advanced.html).)\n",
        "\n",
        ":::"
      ],
      "id": "694031e6"
    }
  ],
  "metadata": {
    "kernelspec": {
      "name": "python3",
      "language": "python",
      "display_name": "Python 3 (ipykernel)",
      "path": "C:\\Users\\mapoe004\\AppData\\Local\\Programs\\Python\\Python312\\share\\jupyter\\kernels\\python3"
    }
  },
  "nbformat": 4,
  "nbformat_minor": 5
}